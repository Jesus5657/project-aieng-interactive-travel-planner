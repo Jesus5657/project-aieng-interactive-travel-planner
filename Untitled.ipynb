{
 "cells": [
  {
   "cell_type": "code",
   "execution_count": 1,
   "id": "db3fcc00-6784-4c86-a931-aef36027dd04",
   "metadata": {},
   "outputs": [
    {
     "name": "stdout",
     "output_type": "stream",
     "text": [
      "WARNING:tensorflow:From C:\\Users\\jesus\\AppData\\Local\\anaconda3\\Lib\\site-packages\\tf_keras\\src\\losses.py:2976: The name tf.losses.sparse_softmax_cross_entropy is deprecated. Please use tf.compat.v1.losses.sparse_softmax_cross_entropy instead.\n",
      "\n"
     ]
    }
   ],
   "source": [
    "### Import Libraries\n",
    "import os\n",
    "import json\n",
    "import requests\n",
    "import faiss\n",
    "import numpy as np\n",
    "import openai\n",
    "from datetime import datetime\n",
    "from sentence_transformers import SentenceTransformer"
   ]
  },
  {
   "cell_type": "code",
   "execution_count": 3,
   "id": "47432025-a4b7-4be7-98bd-e78be286288f",
   "metadata": {},
   "outputs": [],
   "source": [
    "### Load API Keys\n",
    "OPENAI_API_KEY = os.getenv(\"OPENAI_API_KEY\", \"OPENAI_API_KEY\")\n",
    "OPENWEATHER_API_KEY = os.getenv(\"OPENWEATHER_API_KEY\", \"OPENWEATHER\")\n",
    "\n",
    "openai.api_key = OPENAI_API_KEY\n",
    "model = SentenceTransformer(\"all-MiniLM-L6-v2\")"
   ]
  },
  {
   "cell_type": "code",
   "execution_count": 5,
   "id": "eb22d0b1-040c-4794-8738-f413076c1416",
   "metadata": {},
   "outputs": [],
   "source": [
    "### Block 3: Load Data from Local Folder\n",
    "def load_text_data(folder_path):\n",
    "    structured_data = {}\n",
    "    if not os.path.exists(folder_path):\n",
    "        raise FileNotFoundError(f\"Error: Folder '{folder_path}' not found!\")\n",
    "    for filename in os.listdir(folder_path):\n",
    "        if filename.endswith(\".txt\"):\n",
    "            with open(os.path.join(folder_path, filename), \"r\", encoding=\"utf-8\") as file:\n",
    "                structured_data[filename.replace(\".txt\", \"\")] = file.read().strip()\n",
    "    return structured_data\n",
    "\n",
    "data_paths = {\n",
    "    \"landmarks\": \"data/landmarks\",\n",
    "    \"municipalities\": \"data/municipalities\",\n",
    "    \"news\": \"data/elmundo_chunked_es_page1_40years\"\n",
    "}\n",
    "\n",
    "landmarks = load_text_data(data_paths[\"landmarks\"])\n",
    "municipalities = load_text_data(data_paths[\"municipalities\"])\n",
    "news_articles = load_text_data(data_paths[\"news\"])"
   ]
  },
  {
   "cell_type": "code",
   "execution_count": 7,
   "id": "ac3a2b7f-7fec-4575-991c-4faf0bcf07aa",
   "metadata": {},
   "outputs": [],
   "source": [
    "### Block 4: Generate Embeddings and Build FAISS Index\n",
    "embedding_dim = 384  # MiniLM embedding size\n",
    "index = faiss.IndexFlatL2(embedding_dim)\n",
    "descriptions = list(landmarks.values()) + list(municipalities.values())\n",
    "\n",
    "if not descriptions:\n",
    "    raise ValueError(\"Oops! It looks like I couldn't find any data on landmarks or municipalities.\")\n",
    "\n",
    "embeddings = np.array([model.encode(desc) for desc in descriptions], dtype=np.float32)\n",
    "if embeddings.ndim == 1:\n",
    "    embeddings = embeddings.reshape(1, -1)\n",
    "\n",
    "index.add(embeddings)\n",
    "location_keys = list(landmarks.keys()) + list(municipalities.keys())"
   ]
  },
  {
   "cell_type": "code",
   "execution_count": 9,
   "id": "04a195da-4510-4133-9feb-2f0f0d95ea2c",
   "metadata": {},
   "outputs": [],
   "source": [
    "### Block 5: Weather Forecast Function\n",
    "def find_weather_forecast(date, location):\n",
    "    try:\n",
    "        lat, lon = (18.4655, -66.1057)  # Replace with actual coordinates lookup\n",
    "        url = f\"https://api.openweathermap.org/data/2.5/forecast?lat={lat}&lon={lon}&appid={OPENWEATHER_API_KEY}&units=metric\"\n",
    "        response = requests.get(url).json()\n",
    "        \n",
    "        if \"list\" in response and len(response[\"list\"]) > 0:\n",
    "            forecast = response[\"list\"][0]\n",
    "            weather_description = forecast[\"weather\"][0][\"description\"].capitalize()\n",
    "            temperature = forecast[\"main\"][\"temp\"]\n",
    "            return f\"{weather_description}, {temperature}°C\"\n",
    "        else:\n",
    "            return \"Weather data not available.\"\n",
    "    except Exception as e:\n",
    "        return f\"Error retrieving weather data: {e}\""
   ]
  },
  {
   "cell_type": "code",
   "execution_count": 11,
   "id": "5a63c110-f55a-4212-a9e9-f9f190f6f17d",
   "metadata": {},
   "outputs": [],
   "source": [
    "### Block 6: Rank Locations Based on User Interests\n",
    "def rank_appropriate_locations(user_prompt):\n",
    "    query_vector = model.encode(user_prompt).astype(\"float32\").reshape(1, -1)\n",
    "    _, ranked_indices = index.search(query_vector, k=10)  \n",
    "    return [location_keys[i] for i in ranked_indices[0]]"
   ]
  },
  {
   "cell_type": "code",
   "execution_count": 13,
   "id": "079260c6-9b51-45c8-aa58-83177500a34f",
   "metadata": {},
   "outputs": [],
   "source": [
    "### Block 7: Retrieve Municipality of a Location\n",
    "def get_municipality(location):\n",
    "    for municipality in municipalities:\n",
    "        if location.lower() in municipalities[municipality].lower():\n",
    "            return municipality\n",
    "    return \"Unknown Municipality\""
   ]
  },
  {
   "cell_type": "code",
   "execution_count": 15,
   "id": "503e5224-8f5c-45f7-a88a-ab792b8782bc",
   "metadata": {},
   "outputs": [],
   "source": [
    "### Block 8: Friendly Chatbot Function\n",
    "def chatbot():\n",
    "    visit_list = []\n",
    "    print(\"👋 Hey there! Welcome to your personal Puerto Rico Travel Planner!\")\n",
    "    \n",
    "    travel_date = input(\"📅 What date are you planning to visit? (YYYY-MM-DD): \").strip()\n",
    "    while True:\n",
    "        interests = input(\"✨ What kind of places are you excited to see? Tell me your interests: \").strip()\n",
    "        \n",
    "        suggested_locations = rank_appropriate_locations(interests)\n",
    "        print(\"\\n🌴 Based on what you like, here are some places I think you'll love:\")\n",
    "        location_map = {}\n",
    "        for i, loc in enumerate(suggested_locations, 1):\n",
    "            municipality = get_municipality(loc)\n",
    "            location_map[str(i)] = loc\n",
    "            print(f\"{i}. {loc.replace('_', ' ').title()} - Located in {municipality}\")\n",
    "        \n",
    "        while True:\n",
    "            choice = input(\"\\n➕ Would you like to add one to your visit list? (yes/no): \").strip().lower()\n",
    "            while choice not in [\"yes\", \"no\"]:\n",
    "                choice = input(\"😅 Oops! Please type 'yes' or 'no': \").strip().lower()\n",
    "            if choice == \"no\":\n",
    "                break\n",
    "            \n",
    "            location_input = input(\"🏝 Enter the location number or name: \").strip()\n",
    "            selected_location = location_map.get(location_input, location_input)\n",
    "            \n",
    "            if selected_location in location_keys:\n",
    "                visit_list.append(selected_location)\n",
    "                print(f\"✅ Awesome! {selected_location.replace('_', ' ').title()} has been added to your visit list.\")\n",
    "                \n",
    "                weather_info = find_weather_forecast(travel_date, selected_location)\n",
    "                print(f\"☀️ Just so you know, the weather in {selected_location.replace('_', ' ').title()} on {travel_date} is expected to be: {weather_info}\")\n",
    "            else:\n",
    "                print(\"❌ Hmm, that doesn't seem like a valid choice. Try entering a valid number or name!\")\n",
    "        \n",
    "        next_step = input(\"\\nWould you like to add more interests or finalize your trip? (yes to continue, no to finish): \").strip().lower()\n",
    "        while next_step not in [\"yes\", \"no\"]:\n",
    "            next_step = input(\"😅 Sorry, please type 'yes' or 'no': \").strip().lower()\n",
    "        if next_step == \"no\":\n",
    "            break\n",
    "    \n",
    "    print(\"\\n🗺 Here's your final visit list:\")\n",
    "    for loc in visit_list:\n",
    "        municipality = get_municipality(loc)\n",
    "        print(f\"- {loc.replace('_', ' ').title()} ({municipality})\")\n",
    "    \n",
    "    print(\"\\n🎉 Have an amazing time in Puerto Rico! Let me know if you need any more recommendations!\")"
   ]
  },
  {
   "cell_type": "code",
   "execution_count": 17,
   "id": "3190f059-2295-4d8b-b89f-7370135ec735",
   "metadata": {},
   "outputs": [
    {
     "name": "stdout",
     "output_type": "stream",
     "text": [
      "👋 Hey there! Welcome to your personal Puerto Rico Travel Planner!\n"
     ]
    },
    {
     "name": "stdout",
     "output_type": "stream",
     "text": [
      "📅 What date are you planning to visit? (YYYY-MM-DD):  2025-02-14\n",
      "✨ What kind of places are you excited to see? Tell me your interests:  I want to go a beach\n"
     ]
    },
    {
     "name": "stdout",
     "output_type": "stream",
     "text": [
      "\n",
      "🌴 Based on what you like, here are some places I think you'll love:\n",
      "1. Blue Beach (Vieques) - Located in Vieques\n",
      "2. Bayamón River - Located in Unknown Municipality\n",
      "3. Esperanza Beach - Located in Manatí\n",
      "4. Domes Beach - Located in Rincón\n",
      "5. Jobos Beach - Located in Isabela\n"
     ]
    },
    {
     "name": "stdout",
     "output_type": "stream",
     "text": [
      "\n",
      "➕ Would you like to add one to your visit list? (yes/no):  yes\n",
      "🏝 Enter the location number or name:  5\n"
     ]
    },
    {
     "name": "stdout",
     "output_type": "stream",
     "text": [
      "✅ Awesome! Jobos Beach has been added to your visit list.\n",
      "☀️ Just so you know, the weather in Jobos Beach on 2025-02-14 is expected to be: Weather data not available.\n"
     ]
    },
    {
     "name": "stdout",
     "output_type": "stream",
     "text": [
      "\n",
      "➕ Would you like to add one to your visit list? (yes/no):  no\n",
      "\n",
      "Would you like to add more interests or finalize your trip? (yes to continue, no to finish):  no\n"
     ]
    },
    {
     "name": "stdout",
     "output_type": "stream",
     "text": [
      "\n",
      "🗺 Here's your final visit list:\n",
      "- Jobos Beach (Isabela)\n",
      "\n",
      "🎉 Have an amazing time in Puerto Rico! Let me know if you need any more recommendations!\n"
     ]
    }
   ],
   "source": [
    "### Run Chatbot\n",
    "if __name__ == \"__main__\":\n",
    "    chatbot()"
   ]
  },
  {
   "cell_type": "code",
   "execution_count": 2,
   "id": "a7bb7b40",
   "metadata": {},
   "outputs": [
    {
     "name": "stdout",
     "output_type": "stream",
     "text": [
      "Requirement already satisfied: ipywidgets in c:\\users\\jesus\\appdata\\local\\anaconda3\\lib\\site-packages (8.1.5)Note: you may need to restart the kernel to use updated packages.\n",
      "\n",
      "Requirement already satisfied: comm>=0.1.3 in c:\\users\\jesus\\appdata\\local\\anaconda3\\lib\\site-packages (from ipywidgets) (0.2.1)\n",
      "Requirement already satisfied: ipython>=6.1.0 in c:\\users\\jesus\\appdata\\local\\anaconda3\\lib\\site-packages (from ipywidgets) (8.27.0)\n",
      "Requirement already satisfied: traitlets>=4.3.1 in c:\\users\\jesus\\appdata\\local\\anaconda3\\lib\\site-packages (from ipywidgets) (5.14.3)\n",
      "Requirement already satisfied: widgetsnbextension~=4.0.12 in c:\\users\\jesus\\appdata\\local\\anaconda3\\lib\\site-packages (from ipywidgets) (4.0.13)\n",
      "Requirement already satisfied: jupyterlab-widgets~=3.0.12 in c:\\users\\jesus\\appdata\\local\\anaconda3\\lib\\site-packages (from ipywidgets) (3.0.13)\n",
      "Requirement already satisfied: decorator in c:\\users\\jesus\\appdata\\local\\anaconda3\\lib\\site-packages (from ipython>=6.1.0->ipywidgets) (5.1.1)\n",
      "Requirement already satisfied: jedi>=0.16 in c:\\users\\jesus\\appdata\\local\\anaconda3\\lib\\site-packages (from ipython>=6.1.0->ipywidgets) (0.19.1)\n",
      "Requirement already satisfied: matplotlib-inline in c:\\users\\jesus\\appdata\\local\\anaconda3\\lib\\site-packages (from ipython>=6.1.0->ipywidgets) (0.1.6)\n",
      "Requirement already satisfied: prompt-toolkit<3.1.0,>=3.0.41 in c:\\users\\jesus\\appdata\\local\\anaconda3\\lib\\site-packages (from ipython>=6.1.0->ipywidgets) (3.0.43)\n",
      "Requirement already satisfied: pygments>=2.4.0 in c:\\users\\jesus\\appdata\\local\\anaconda3\\lib\\site-packages (from ipython>=6.1.0->ipywidgets) (2.15.1)\n",
      "Requirement already satisfied: stack-data in c:\\users\\jesus\\appdata\\local\\anaconda3\\lib\\site-packages (from ipython>=6.1.0->ipywidgets) (0.2.0)\n",
      "Requirement already satisfied: colorama in c:\\users\\jesus\\appdata\\local\\anaconda3\\lib\\site-packages (from ipython>=6.1.0->ipywidgets) (0.4.6)\n",
      "Requirement already satisfied: parso<0.9.0,>=0.8.3 in c:\\users\\jesus\\appdata\\local\\anaconda3\\lib\\site-packages (from jedi>=0.16->ipython>=6.1.0->ipywidgets) (0.8.3)\n",
      "Requirement already satisfied: wcwidth in c:\\users\\jesus\\appdata\\local\\anaconda3\\lib\\site-packages (from prompt-toolkit<3.1.0,>=3.0.41->ipython>=6.1.0->ipywidgets) (0.2.5)\n",
      "Requirement already satisfied: executing in c:\\users\\jesus\\appdata\\local\\anaconda3\\lib\\site-packages (from stack-data->ipython>=6.1.0->ipywidgets) (0.8.3)\n",
      "Requirement already satisfied: asttokens in c:\\users\\jesus\\appdata\\local\\anaconda3\\lib\\site-packages (from stack-data->ipython>=6.1.0->ipywidgets) (2.0.5)\n",
      "Requirement already satisfied: pure-eval in c:\\users\\jesus\\appdata\\local\\anaconda3\\lib\\site-packages (from stack-data->ipython>=6.1.0->ipywidgets) (0.2.2)\n",
      "Requirement already satisfied: six in c:\\users\\jesus\\appdata\\local\\anaconda3\\lib\\site-packages (from asttokens->stack-data->ipython>=6.1.0->ipywidgets) (1.16.0)\n"
     ]
    }
   ],
   "source": [
    "pip install ipywidgets"
   ]
  },
  {
   "cell_type": "code",
   "execution_count": 1,
   "id": "8570722b-05b7-4349-8b92-b723ee18e5ee",
   "metadata": {},
   "outputs": [
    {
     "name": "stdout",
     "output_type": "stream",
     "text": [
      "Requirement already satisfied: streamlit in c:\\users\\jesus\\appdata\\local\\anaconda3\\lib\\site-packages (1.37.1)\n",
      "Requirement already satisfied: faiss-cpu in c:\\users\\jesus\\appdata\\local\\anaconda3\\lib\\site-packages (1.10.0)\n",
      "Requirement already satisfied: sentence-transformers in c:\\users\\jesus\\appdata\\local\\anaconda3\\lib\\site-packages (3.4.1)\n",
      "Requirement already satisfied: openai in c:\\users\\jesus\\appdata\\local\\anaconda3\\lib\\site-packages (0.28.0)\n",
      "Requirement already satisfied: requests in c:\\users\\jesus\\appdata\\local\\anaconda3\\lib\\site-packages (2.32.3)\n",
      "Requirement already satisfied: numpy in c:\\users\\jesus\\appdata\\local\\anaconda3\\lib\\site-packages (1.26.4)\n",
      "Requirement already satisfied: altair<6,>=4.0 in c:\\users\\jesus\\appdata\\local\\anaconda3\\lib\\site-packages (from streamlit) (5.0.1)\n",
      "Requirement already satisfied: blinker<2,>=1.0.0 in c:\\users\\jesus\\appdata\\local\\anaconda3\\lib\\site-packages (from streamlit) (1.6.2)\n",
      "Requirement already satisfied: cachetools<6,>=4.0 in c:\\users\\jesus\\appdata\\local\\anaconda3\\lib\\site-packages (from streamlit) (5.3.3)\n",
      "Requirement already satisfied: click<9,>=7.0 in c:\\users\\jesus\\appdata\\local\\anaconda3\\lib\\site-packages (from streamlit) (8.1.7)\n",
      "Requirement already satisfied: packaging<25,>=20 in c:\\users\\jesus\\appdata\\local\\anaconda3\\lib\\site-packages (from streamlit) (24.1)\n",
      "Requirement already satisfied: pandas<3,>=1.3.0 in c:\\users\\jesus\\appdata\\local\\anaconda3\\lib\\site-packages (from streamlit) (2.2.2)\n",
      "Requirement already satisfied: pillow<11,>=7.1.0 in c:\\users\\jesus\\appdata\\local\\anaconda3\\lib\\site-packages (from streamlit) (10.4.0)\n",
      "Requirement already satisfied: protobuf<6,>=3.20 in c:\\users\\jesus\\appdata\\local\\anaconda3\\lib\\site-packages (from streamlit) (5.29.3)\n",
      "Requirement already satisfied: pyarrow>=7.0 in c:\\users\\jesus\\appdata\\local\\anaconda3\\lib\\site-packages (from streamlit) (16.1.0)\n",
      "Requirement already satisfied: rich<14,>=10.14.0 in c:\\users\\jesus\\appdata\\local\\anaconda3\\lib\\site-packages (from streamlit) (13.7.1)\n",
      "Requirement already satisfied: tenacity<9,>=8.1.0 in c:\\users\\jesus\\appdata\\local\\anaconda3\\lib\\site-packages (from streamlit) (8.2.3)\n",
      "Requirement already satisfied: toml<2,>=0.10.1 in c:\\users\\jesus\\appdata\\local\\anaconda3\\lib\\site-packages (from streamlit) (0.10.2)\n",
      "Requirement already satisfied: typing-extensions<5,>=4.3.0 in c:\\users\\jesus\\appdata\\local\\anaconda3\\lib\\site-packages (from streamlit) (4.12.2)\n",
      "Requirement already satisfied: gitpython!=3.1.19,<4,>=3.0.7 in c:\\users\\jesus\\appdata\\local\\anaconda3\\lib\\site-packages (from streamlit) (3.1.43)\n",
      "Requirement already satisfied: pydeck<1,>=0.8.0b4 in c:\\users\\jesus\\appdata\\local\\anaconda3\\lib\\site-packages (from streamlit) (0.8.0)\n",
      "Requirement already satisfied: tornado<7,>=6.0.3 in c:\\users\\jesus\\appdata\\local\\anaconda3\\lib\\site-packages (from streamlit) (6.4.1)\n",
      "Requirement already satisfied: watchdog<5,>=2.1.5 in c:\\users\\jesus\\appdata\\local\\anaconda3\\lib\\site-packages (from streamlit) (4.0.1)\n",
      "Requirement already satisfied: transformers<5.0.0,>=4.41.0 in c:\\users\\jesus\\appdata\\local\\anaconda3\\lib\\site-packages (from sentence-transformers) (4.48.0)\n",
      "Requirement already satisfied: tqdm in c:\\users\\jesus\\appdata\\local\\anaconda3\\lib\\site-packages (from sentence-transformers) (4.66.5)\n",
      "Requirement already satisfied: torch>=1.11.0 in c:\\users\\jesus\\appdata\\local\\anaconda3\\lib\\site-packages (from sentence-transformers) (2.5.1)\n",
      "Requirement already satisfied: scikit-learn in c:\\users\\jesus\\appdata\\local\\anaconda3\\lib\\site-packages (from sentence-transformers) (1.5.1)\n",
      "Requirement already satisfied: scipy in c:\\users\\jesus\\appdata\\local\\anaconda3\\lib\\site-packages (from sentence-transformers) (1.13.1)\n",
      "Requirement already satisfied: huggingface-hub>=0.20.0 in c:\\users\\jesus\\appdata\\local\\anaconda3\\lib\\site-packages (from sentence-transformers) (0.27.1)\n",
      "Requirement already satisfied: aiohttp in c:\\users\\jesus\\appdata\\local\\anaconda3\\lib\\site-packages (from openai) (3.10.5)\n",
      "Requirement already satisfied: charset-normalizer<4,>=2 in c:\\users\\jesus\\appdata\\local\\anaconda3\\lib\\site-packages (from requests) (3.3.2)\n",
      "Requirement already satisfied: idna<4,>=2.5 in c:\\users\\jesus\\appdata\\local\\anaconda3\\lib\\site-packages (from requests) (3.7)\n",
      "Requirement already satisfied: urllib3<3,>=1.21.1 in c:\\users\\jesus\\appdata\\local\\anaconda3\\lib\\site-packages (from requests) (2.2.3)\n",
      "Requirement already satisfied: certifi>=2017.4.17 in c:\\users\\jesus\\appdata\\local\\anaconda3\\lib\\site-packages (from requests) (2024.8.30)\n",
      "Requirement already satisfied: jinja2 in c:\\users\\jesus\\appdata\\local\\anaconda3\\lib\\site-packages (from altair<6,>=4.0->streamlit) (3.1.4)\n",
      "Requirement already satisfied: jsonschema>=3.0 in c:\\users\\jesus\\appdata\\local\\anaconda3\\lib\\site-packages (from altair<6,>=4.0->streamlit) (4.23.0)\n",
      "Requirement already satisfied: toolz in c:\\users\\jesus\\appdata\\local\\anaconda3\\lib\\site-packages (from altair<6,>=4.0->streamlit) (0.12.0)\n",
      "Requirement already satisfied: colorama in c:\\users\\jesus\\appdata\\local\\anaconda3\\lib\\site-packages (from click<9,>=7.0->streamlit) (0.4.6)\n",
      "Requirement already satisfied: gitdb<5,>=4.0.1 in c:\\users\\jesus\\appdata\\local\\anaconda3\\lib\\site-packages (from gitpython!=3.1.19,<4,>=3.0.7->streamlit) (4.0.7)\n",
      "Requirement already satisfied: filelock in c:\\users\\jesus\\appdata\\local\\anaconda3\\lib\\site-packages (from huggingface-hub>=0.20.0->sentence-transformers) (3.13.1)\n",
      "Requirement already satisfied: fsspec>=2023.5.0 in c:\\users\\jesus\\appdata\\local\\anaconda3\\lib\\site-packages (from huggingface-hub>=0.20.0->sentence-transformers) (2024.6.1)\n",
      "Requirement already satisfied: pyyaml>=5.1 in c:\\users\\jesus\\appdata\\local\\anaconda3\\lib\\site-packages (from huggingface-hub>=0.20.0->sentence-transformers) (6.0.1)\n",
      "Requirement already satisfied: python-dateutil>=2.8.2 in c:\\users\\jesus\\appdata\\local\\anaconda3\\lib\\site-packages (from pandas<3,>=1.3.0->streamlit) (2.9.0.post0)\n",
      "Requirement already satisfied: pytz>=2020.1 in c:\\users\\jesus\\appdata\\local\\anaconda3\\lib\\site-packages (from pandas<3,>=1.3.0->streamlit) (2024.1)\n",
      "Requirement already satisfied: tzdata>=2022.7 in c:\\users\\jesus\\appdata\\local\\anaconda3\\lib\\site-packages (from pandas<3,>=1.3.0->streamlit) (2023.3)\n",
      "Requirement already satisfied: markdown-it-py>=2.2.0 in c:\\users\\jesus\\appdata\\local\\anaconda3\\lib\\site-packages (from rich<14,>=10.14.0->streamlit) (2.2.0)\n",
      "Requirement already satisfied: pygments<3.0.0,>=2.13.0 in c:\\users\\jesus\\appdata\\local\\anaconda3\\lib\\site-packages (from rich<14,>=10.14.0->streamlit) (2.15.1)\n",
      "Requirement already satisfied: networkx in c:\\users\\jesus\\appdata\\local\\anaconda3\\lib\\site-packages (from torch>=1.11.0->sentence-transformers) (3.3)\n",
      "Requirement already satisfied: setuptools in c:\\users\\jesus\\appdata\\local\\anaconda3\\lib\\site-packages (from torch>=1.11.0->sentence-transformers) (75.1.0)\n",
      "Requirement already satisfied: sympy==1.13.1 in c:\\users\\jesus\\appdata\\local\\anaconda3\\lib\\site-packages (from torch>=1.11.0->sentence-transformers) (1.13.1)\n",
      "Requirement already satisfied: mpmath<1.4,>=1.1.0 in c:\\users\\jesus\\appdata\\local\\anaconda3\\lib\\site-packages (from sympy==1.13.1->torch>=1.11.0->sentence-transformers) (1.3.0)\n",
      "Requirement already satisfied: regex!=2019.12.17 in c:\\users\\jesus\\appdata\\local\\anaconda3\\lib\\site-packages (from transformers<5.0.0,>=4.41.0->sentence-transformers) (2024.9.11)\n",
      "Requirement already satisfied: tokenizers<0.22,>=0.21 in c:\\users\\jesus\\appdata\\local\\anaconda3\\lib\\site-packages (from transformers<5.0.0,>=4.41.0->sentence-transformers) (0.21.0)\n",
      "Requirement already satisfied: safetensors>=0.4.1 in c:\\users\\jesus\\appdata\\local\\anaconda3\\lib\\site-packages (from transformers<5.0.0,>=4.41.0->sentence-transformers) (0.5.2)\n",
      "Requirement already satisfied: aiohappyeyeballs>=2.3.0 in c:\\users\\jesus\\appdata\\local\\anaconda3\\lib\\site-packages (from aiohttp->openai) (2.4.0)\n",
      "Requirement already satisfied: aiosignal>=1.1.2 in c:\\users\\jesus\\appdata\\local\\anaconda3\\lib\\site-packages (from aiohttp->openai) (1.2.0)\n",
      "Requirement already satisfied: attrs>=17.3.0 in c:\\users\\jesus\\appdata\\local\\anaconda3\\lib\\site-packages (from aiohttp->openai) (23.1.0)\n",
      "Requirement already satisfied: frozenlist>=1.1.1 in c:\\users\\jesus\\appdata\\local\\anaconda3\\lib\\site-packages (from aiohttp->openai) (1.4.0)\n",
      "Requirement already satisfied: multidict<7.0,>=4.5 in c:\\users\\jesus\\appdata\\local\\anaconda3\\lib\\site-packages (from aiohttp->openai) (6.0.4)\n",
      "Requirement already satisfied: yarl<2.0,>=1.0 in c:\\users\\jesus\\appdata\\local\\anaconda3\\lib\\site-packages (from aiohttp->openai) (1.11.0)\n",
      "Requirement already satisfied: joblib>=1.2.0 in c:\\users\\jesus\\appdata\\local\\anaconda3\\lib\\site-packages (from scikit-learn->sentence-transformers) (1.4.2)\n",
      "Requirement already satisfied: threadpoolctl>=3.1.0 in c:\\users\\jesus\\appdata\\local\\anaconda3\\lib\\site-packages (from scikit-learn->sentence-transformers) (3.5.0)\n",
      "Requirement already satisfied: smmap<5,>=3.0.1 in c:\\users\\jesus\\appdata\\local\\anaconda3\\lib\\site-packages (from gitdb<5,>=4.0.1->gitpython!=3.1.19,<4,>=3.0.7->streamlit) (4.0.0)\n",
      "Requirement already satisfied: MarkupSafe>=2.0 in c:\\users\\jesus\\appdata\\local\\anaconda3\\lib\\site-packages (from jinja2->altair<6,>=4.0->streamlit) (2.1.3)\n",
      "Requirement already satisfied: jsonschema-specifications>=2023.03.6 in c:\\users\\jesus\\appdata\\local\\anaconda3\\lib\\site-packages (from jsonschema>=3.0->altair<6,>=4.0->streamlit) (2023.7.1)\n",
      "Requirement already satisfied: referencing>=0.28.4 in c:\\users\\jesus\\appdata\\local\\anaconda3\\lib\\site-packages (from jsonschema>=3.0->altair<6,>=4.0->streamlit) (0.30.2)\n",
      "Requirement already satisfied: rpds-py>=0.7.1 in c:\\users\\jesus\\appdata\\local\\anaconda3\\lib\\site-packages (from jsonschema>=3.0->altair<6,>=4.0->streamlit) (0.10.6)\n",
      "Requirement already satisfied: mdurl~=0.1 in c:\\users\\jesus\\appdata\\local\\anaconda3\\lib\\site-packages (from markdown-it-py>=2.2.0->rich<14,>=10.14.0->streamlit) (0.1.0)\n",
      "Requirement already satisfied: six>=1.5 in c:\\users\\jesus\\appdata\\local\\anaconda3\\lib\\site-packages (from python-dateutil>=2.8.2->pandas<3,>=1.3.0->streamlit) (1.16.0)\n",
      "Note: you may need to restart the kernel to use updated packages.\n"
     ]
    }
   ],
   "source": [
    "pip install streamlit faiss-cpu sentence-transformers openai requests numpy"
   ]
  }
 ],
 "metadata": {
  "kernelspec": {
   "display_name": "Python 3 (ipykernel)",
   "language": "python",
   "name": "python3"
  },
  "language_info": {
   "codemirror_mode": {
    "name": "ipython",
    "version": 3
   },
   "file_extension": ".py",
   "mimetype": "text/x-python",
   "name": "python",
   "nbconvert_exporter": "python",
   "pygments_lexer": "ipython3",
   "version": "3.12.7"
  }
 },
 "nbformat": 4,
 "nbformat_minor": 5
}
