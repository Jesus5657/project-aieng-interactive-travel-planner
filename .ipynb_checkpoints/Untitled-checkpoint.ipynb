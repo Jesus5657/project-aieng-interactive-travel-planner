{
 "cells": [
  {
   "cell_type": "code",
   "execution_count": 1,
   "id": "db3fcc00-6784-4c86-a931-aef36027dd04",
   "metadata": {},
   "outputs": [
    {
     "name": "stdout",
     "output_type": "stream",
     "text": [
      "WARNING:tensorflow:From C:\\Users\\jesus\\AppData\\Local\\anaconda3\\Lib\\site-packages\\tf_keras\\src\\losses.py:2976: The name tf.losses.sparse_softmax_cross_entropy is deprecated. Please use tf.compat.v1.losses.sparse_softmax_cross_entropy instead.\n",
      "\n"
     ]
    }
   ],
   "source": [
    "### Block 1: Import Libraries\n",
    "import os\n",
    "import json\n",
    "import requests\n",
    "import faiss\n",
    "import numpy as np\n",
    "import openai\n",
    "from datetime import datetime\n",
    "from sentence_transformers import SentenceTransformer"
   ]
  },
  {
   "cell_type": "code",
   "execution_count": 3,
   "id": "47432025-a4b7-4be7-98bd-e78be286288f",
   "metadata": {},
   "outputs": [],
   "source": [
    "### Block 2: Load API Keys\n",
    "OPENAI_API_KEY = os.getenv(\"OPENAI_API_KEY\", \"OPENAI_API_KEY\")\n",
    "OPENWEATHER_API_KEY = os.getenv(\"OPENWEATHER_API_KEY\", \"OPENWEATHER\")\n",
    "\n",
    "openai.api_key = OPENAI_API_KEY\n",
    "model = SentenceTransformer(\"all-MiniLM-L6-v2\")"
   ]
  },
  {
   "cell_type": "code",
   "execution_count": 5,
   "id": "eb22d0b1-040c-4794-8738-f413076c1416",
   "metadata": {},
   "outputs": [],
   "source": [
    "### Block 3: Load Data from Local Folder\n",
    "def load_text_data(folder_path):\n",
    "    structured_data = {}\n",
    "    if not os.path.exists(folder_path):\n",
    "        raise FileNotFoundError(f\"Error: Folder '{folder_path}' not found!\")\n",
    "    for filename in os.listdir(folder_path):\n",
    "        if filename.endswith(\".txt\"):\n",
    "            with open(os.path.join(folder_path, filename), \"r\", encoding=\"utf-8\") as file:\n",
    "                structured_data[filename.replace(\".txt\", \"\")] = file.read().strip()\n",
    "    return structured_data\n",
    "\n",
    "data_paths = {\n",
    "    \"landmarks\": \"data/landmarks\",\n",
    "    \"municipalities\": \"data/municipalities\",\n",
    "    \"news\": \"data/elmundo_chunked_es_page1_40years\"\n",
    "}\n",
    "\n",
    "landmarks = load_text_data(data_paths[\"landmarks\"])\n",
    "municipalities = load_text_data(data_paths[\"municipalities\"])\n",
    "news_articles = load_text_data(data_paths[\"news\"])"
   ]
  },
  {
   "cell_type": "code",
   "execution_count": 7,
   "id": "ac3a2b7f-7fec-4575-991c-4faf0bcf07aa",
   "metadata": {},
   "outputs": [],
   "source": [
    "### Block 4: Generate Embeddings and Build FAISS Index\n",
    "embedding_dim = 384  # MiniLM embedding size\n",
    "index = faiss.IndexFlatL2(embedding_dim)\n",
    "descriptions = list(landmarks.values()) + list(municipalities.values())\n",
    "\n",
    "if not descriptions:\n",
    "    raise ValueError(\"Oops! It looks like I couldn't find any data on landmarks or municipalities.\")\n",
    "\n",
    "embeddings = np.array([model.encode(desc) for desc in descriptions], dtype=np.float32)\n",
    "if embeddings.ndim == 1:\n",
    "    embeddings = embeddings.reshape(1, -1)\n",
    "\n",
    "index.add(embeddings)\n",
    "location_keys = list(landmarks.keys()) + list(municipalities.keys())"
   ]
  },
  {
   "cell_type": "code",
   "execution_count": 9,
   "id": "04a195da-4510-4133-9feb-2f0f0d95ea2c",
   "metadata": {},
   "outputs": [],
   "source": [
    "### Block 5: Weather Forecast Function\n",
    "def find_weather_forecast(date, location):\n",
    "    try:\n",
    "        lat, lon = (18.4655, -66.1057)  # Replace with actual coordinates lookup\n",
    "        url = f\"https://api.openweathermap.org/data/2.5/forecast?lat={lat}&lon={lon}&appid={OPENWEATHER_API_KEY}&units=metric\"\n",
    "        response = requests.get(url).json()\n",
    "        \n",
    "        if \"list\" in response and len(response[\"list\"]) > 0:\n",
    "            forecast = response[\"list\"][0]\n",
    "            weather_description = forecast[\"weather\"][0][\"description\"].capitalize()\n",
    "            temperature = forecast[\"main\"][\"temp\"]\n",
    "            return f\"{weather_description}, {temperature}°C\"\n",
    "        else:\n",
    "            return \"Weather data not available.\"\n",
    "    except Exception as e:\n",
    "        return f\"Error retrieving weather data: {e}\""
   ]
  },
  {
   "cell_type": "code",
   "execution_count": 11,
   "id": "5a63c110-f55a-4212-a9e9-f9f190f6f17d",
   "metadata": {},
   "outputs": [],
   "source": [
    "### Block 6: Rank Locations Based on User Interests\n",
    "def rank_appropriate_locations(user_prompt):\n",
    "    query_vector = model.encode(user_prompt).astype(\"float32\").reshape(1, -1)\n",
    "    _, ranked_indices = index.search(query_vector, k=10)  \n",
    "    return [location_keys[i] for i in ranked_indices[0]]"
   ]
  },
  {
   "cell_type": "code",
   "execution_count": 13,
   "id": "079260c6-9b51-45c8-aa58-83177500a34f",
   "metadata": {},
   "outputs": [],
   "source": [
    "### Block 7: Retrieve Municipality of a Location\n",
    "def get_municipality(location):\n",
    "    for municipality in municipalities:\n",
    "        if location.lower() in municipalities[municipality].lower():\n",
    "            return municipality\n",
    "    return \"Unknown Municipality\""
   ]
  },
  {
   "cell_type": "code",
   "execution_count": 15,
   "id": "503e5224-8f5c-45f7-a88a-ab792b8782bc",
   "metadata": {},
   "outputs": [],
   "source": [
    "### Block 8: Friendly Chatbot Function\n",
    "def chatbot():\n",
    "    visit_list = []\n",
    "    print(\"👋 Hey there! Welcome to your personal Puerto Rico Travel Planner!\")\n",
    "    \n",
    "    travel_date = input(\"📅 What date are you planning to visit? (YYYY-MM-DD): \").strip()\n",
    "    while True:\n",
    "        interests = input(\"✨ What kind of places are you excited to see? Tell me your interests: \").strip()\n",
    "        \n",
    "        suggested_locations = rank_appropriate_locations(interests)\n",
    "        print(\"\\n🌴 Based on what you like, here are some places I think you'll love:\")\n",
    "        location_map = {}\n",
    "        for i, loc in enumerate(suggested_locations, 1):\n",
    "            municipality = get_municipality(loc)\n",
    "            location_map[str(i)] = loc\n",
    "            print(f\"{i}. {loc.replace('_', ' ').title()} - Located in {municipality}\")\n",
    "        \n",
    "        while True:\n",
    "            choice = input(\"\\n➕ Would you like to add one to your visit list? (yes/no): \").strip().lower()\n",
    "            while choice not in [\"yes\", \"no\"]:\n",
    "                choice = input(\"😅 Oops! Please type 'yes' or 'no': \").strip().lower()\n",
    "            if choice == \"no\":\n",
    "                break\n",
    "            \n",
    "            location_input = input(\"🏝 Enter the location number or name: \").strip()\n",
    "            selected_location = location_map.get(location_input, location_input)\n",
    "            \n",
    "            if selected_location in location_keys:\n",
    "                visit_list.append(selected_location)\n",
    "                print(f\"✅ Awesome! {selected_location.replace('_', ' ').title()} has been added to your visit list.\")\n",
    "                \n",
    "                weather_info = find_weather_forecast(travel_date, selected_location)\n",
    "                print(f\"☀️ Just so you know, the weather in {selected_location.replace('_', ' ').title()} on {travel_date} is expected to be: {weather_info}\")\n",
    "            else:\n",
    "                print(\"❌ Hmm, that doesn't seem like a valid choice. Try entering a valid number or name!\")\n",
    "        \n",
    "        next_step = input(\"\\nWould you like to add more interests or finalize your trip? (yes to continue, no to finish): \").strip().lower()\n",
    "        while next_step not in [\"yes\", \"no\"]:\n",
    "            next_step = input(\"😅 Sorry, please type 'yes' or 'no': \").strip().lower()\n",
    "        if next_step == \"no\":\n",
    "            break\n",
    "    \n",
    "    print(\"\\n🗺 Here's your final visit list:\")\n",
    "    for loc in visit_list:\n",
    "        municipality = get_municipality(loc)\n",
    "        print(f\"- {loc.replace('_', ' ').title()} ({municipality})\")\n",
    "    \n",
    "    print(\"\\n🎉 Have an amazing time in Puerto Rico! Let me know if you need any more recommendations!\")"
   ]
  },
  {
   "cell_type": "code",
   "execution_count": 17,
   "id": "3190f059-2295-4d8b-b89f-7370135ec735",
   "metadata": {},
   "outputs": [
    {
     "name": "stdout",
     "output_type": "stream",
     "text": [
      "👋 Hey there! Welcome to your personal Puerto Rico Travel Planner!\n"
     ]
    },
    {
     "name": "stdin",
     "output_type": "stream",
     "text": [
      "📅 What date are you planning to visit? (YYYY-MM-DD):  2025-02-14\n",
      "✨ What kind of places are you excited to see? Tell me your interests:  I want to go a beach\n"
     ]
    },
    {
     "name": "stdout",
     "output_type": "stream",
     "text": [
      "\n",
      "🌴 Based on what you like, here are some places I think you'll love:\n",
      "1. Blue Beach (Vieques) - Located in Vieques\n",
      "2. Bayamón River - Located in Unknown Municipality\n",
      "3. Esperanza Beach - Located in Manatí\n",
      "4. Domes Beach - Located in Rincón\n",
      "5. Jobos Beach - Located in Isabela\n"
     ]
    },
    {
     "name": "stdin",
     "output_type": "stream",
     "text": [
      "\n",
      "➕ Would you like to add one to your visit list? (yes/no):  yes\n",
      "🏝 Enter the location number or name:  5\n"
     ]
    },
    {
     "name": "stdout",
     "output_type": "stream",
     "text": [
      "✅ Awesome! Jobos Beach has been added to your visit list.\n",
      "☀️ Just so you know, the weather in Jobos Beach on 2025-02-14 is expected to be: Weather data not available.\n"
     ]
    },
    {
     "name": "stdin",
     "output_type": "stream",
     "text": [
      "\n",
      "➕ Would you like to add one to your visit list? (yes/no):  no\n",
      "\n",
      "Would you like to add more interests or finalize your trip? (yes to continue, no to finish):  no\n"
     ]
    },
    {
     "name": "stdout",
     "output_type": "stream",
     "text": [
      "\n",
      "🗺 Here's your final visit list:\n",
      "- Jobos Beach (Isabela)\n",
      "\n",
      "🎉 Have an amazing time in Puerto Rico! Let me know if you need any more recommendations!\n"
     ]
    }
   ],
   "source": [
    "### Block 9: Run Chatbot\n",
    "if __name__ == \"__main__\":\n",
    "    chatbot()"
   ]
  }
 ],
 "metadata": {
  "kernelspec": {
   "display_name": "Python 3 (ipykernel)",
   "language": "python",
   "name": "python3"
  },
  "language_info": {
   "codemirror_mode": {
    "name": "ipython",
    "version": 3
   },
   "file_extension": ".py",
   "mimetype": "text/x-python",
   "name": "python",
   "nbconvert_exporter": "python",
   "pygments_lexer": "ipython3",
   "version": "3.12.7"
  }
 },
 "nbformat": 4,
 "nbformat_minor": 5
}
